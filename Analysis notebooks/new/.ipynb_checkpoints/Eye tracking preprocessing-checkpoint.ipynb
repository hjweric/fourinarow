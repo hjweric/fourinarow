{
 "cells": [
  {
   "cell_type": "code",
   "execution_count": 1,
   "metadata": {},
   "outputs": [],
   "source": [
    "import matplotlib.pyplot as plt\n",
    "import numpy as np\n",
    "import os\n",
    "import pandas as pd\n",
    "import scipy.stats as sts\n",
    "from scipy.optimize import brute\n",
    "from scipy.spatial import Voronoi, voronoi_plot_2d\n",
    "from datetime import datetime as dt\n",
    "import sklearn.linear_model as lin\n",
    "from ast import literal_eval\n",
    "from matplotlib import patches,colors\n",
    "from matplotlib import rc,rcParams\n",
    "\n",
    "timezoneoffset = 0 #set this to 0 if running in EST/New York\n",
    "#timezoneoffset = -10800 #set this to 0 if running in EST/New York\n",
    "\n",
    "direc = 'C:/Users/svo/Google Drive/Bas Games/Analysis/'\n",
    "data_direc = 'C:/Users/svo/Google Drive/Bas Games/Data/'\n",
    "fig_direc = 'C:/Users/svo/Google Drive/Bas Games/Figures/'\n",
    "\n",
    "hist_direc = direc + 'Eye Movements/2_eye/histograms/'\n",
    "model_direc = direc + 'Eye Movements/2_eye/Eye Movements/'\n",
    "eye_direc = data_direc + '2_eye/Raw/Eye/'\n",
    "game_direc = data_direc + '2_eye/Raw/Game/'\n",
    "\n"
   ]
  },
  {
   "cell_type": "code",
   "execution_count": 2,
   "metadata": {},
   "outputs": [],
   "source": [
    "rcParams['figure.figsize'] = (6,6) #figure size in inches\n",
    "rcParams['font.family'] = \"sans-serif\" \n",
    "rcParams['font.weight'] = \"roman\" \n",
    "rcParams['font.style'] = \"normal\" # not 100% sure what this does but it was recommended\n",
    "rcParams['font.size'] = 32 # not 100% sure what this does but it was recommended\n",
    "rcParams['pdf.fonttype'] = 42\n",
    "rcParams['axes.linewidth'] = 2 #thickness of the border\n",
    "rcParams['xtick.major.width'] = rcParams['axes.linewidth'] # make sure line widths are consistent\n",
    "rcParams['ytick.major.width'] = rcParams['axes.linewidth']\n",
    "rcParams['axes.spines.right'] = False #hides right border\n",
    "rcParams['axes.spines.top'] = False #hides top\n",
    "rcParams['legend.frameon'] = False #hides box around the legend\n",
    "rcParams['legend.fontsize'] = 18 #font size in pt\n",
    "rcParams['axes.labelsize'] = 32 \n",
    "rcParams['xtick.labelsize'] = 24\n",
    "rcParams['ytick.labelsize'] = rcParams['xtick.labelsize']\n",
    "rcParams['lines.linewidth'] = 3\n",
    "rcParams['xtick.major.size'] = 5\n",
    "rcParams['lines.markersize'] = 16\n",
    "rcParams['ytick.major.size'] = rcParams['xtick.major.size'] "
   ]
  },
  {
   "cell_type": "raw",
   "metadata": {},
   "source": [
    "Fixation events are recorded in the format of:\n",
    "\n",
    "EFIX <eye> <stime> <etime> <dur> <axp> <ayp> <aps> <xr> <yr> <ma> <ia>\n",
    "\n",
    "This reports the eye used in the recording, the time of the first and last sample in the\n",
    "fixation, and computes the duration of the fixation in milliseconds. The average X and Y\n",
    "eye position (the type of position data is determined when the event was generated) and\n",
    "the average pupil size (area or diameter) are reported. The horizontal and vertical eyeposition\n",
    "angular resolutions (in pixels per visual degree) are reported next. In addition,\n",
    "the output contains information on whether the fixation has been manually adjusted\n",
    "<ma> and the ID and name of the interest area in which the current fixation falls <ia>.\n",
    "\n",
    "Saccade events are recorded in the format of: \n",
    "\n",
    "ESACC <eye> <stime> <etime> <dur> <sxp> <syp> <exp> <eyp> <ampl> <pv> <xr> <yr>\n",
    "\n",
    "This reports the time of the first and last sample in the saccade, and computes its duration\n",
    "in milliseconds. The X and Y eye position at the start and end of the saccade (<sxp>,\n",
    "<syp>, <exp>, <eyp>) are listed. The total visual angle covered in the saccade is\n",
    "reported by <ampl>, which can be divided by (<dur>/1000) to obtain the average\n",
    "velocity. Peak velocity is given by <pv>. The horizontal and vertical eye-position\n",
    "angular resolutions (in pixels per visual degree) are given as well.\n",
    "\n",
    "From http://mshs.univ-poitiers.fr/wp-content/uploads/sites/122/2015/10/Data-Viewer-1.8.402.pdf"
   ]
  },
  {
   "cell_type": "code",
   "execution_count": 3,
   "metadata": {},
   "outputs": [],
   "source": [
    "def process_fix(line):\n",
    "    x = np.array(line[6:].split()).astype(float)\n",
    "    return np.vstack([x[[0,3,4]],x[[1,3,4]]])\n",
    "\n",
    "def process_esacc(line):\n",
    "    x = np.array(line[7:].split()).astype(float)\n",
    "    return np.vstack([x[[0,3,4]],x[[1,5,6]]])\n",
    "    \n",
    "def get_offset(line):\n",
    "    if line[:3]=='MSG':\n",
    "        x = [int(i) for i in line[4:].split()]\n",
    "        x[-1]*=1000\n",
    "        print(x)\n",
    "        return (dt(*x[1:]).timestamp() - x[0]/1000)\n",
    "    else:\n",
    "        return None\n",
    "\n",
    "def load_asc_file(filename):\n",
    "    with open(filename, 'r') as f:\n",
    "        lines = f.readlines()\n",
    "        processed_lines = np.vstack([process_esacc(line) if line.startswith(\"ESACC\") \n",
    "                                     else process_fix(line) if line.startswith(\"EFIX\")\n",
    "                                     else np.empty([0,3]) for line in lines])\n",
    "        toffset = get_offset(lines[11])\n",
    "        print(toffset)\n",
    "        processed_lines[:,0] /= 1000\n",
    "        processed_lines[:,0] += toffset + timezoneoffset\n",
    "        return processed_lines"
   ]
  },
  {
   "cell_type": "code",
   "execution_count": 4,
   "metadata": {},
   "outputs": [],
   "source": [
    "def process_game_line(line):\n",
    "    line = line.replace(\"\\\"\",\"\").split(\",\")\n",
    "\n",
    "def load_game_file(filename,col_names):\n",
    "    d = pd.read_csv(filename,header=None, index_col=0, names = col_names)\n",
    "    d.timestamp /= 1000\n",
    "    return d.loc[d.rt>0]\n",
    "    "
   ]
  },
  {
   "cell_type": "code",
   "execution_count": 5,
   "metadata": {},
   "outputs": [
    {
     "name": "stdout",
     "output_type": "stream",
     "text": [
      "[688838, 2015, 4, 17, 14, 3, 4, 704000]\n",
      "1429293095.866\n",
      "[1378035, 2015, 4, 17, 12, 29, 20, 483000]\n",
      "1429286782.448\n",
      "[1388596, 2015, 4, 23, 13, 3, 38, 401000]\n",
      "1429807229.805\n",
      "[1097676, 2015, 4, 22, 11, 0, 42, 77000]\n",
      "1429713744.4009998\n",
      "[7251391, 2015, 4, 15, 13, 58, 0, 772000]\n",
      "1429113429.381\n",
      "[1845378, 2015, 4, 15, 12, 27, 55, 42000]\n",
      "1429113429.664\n",
      "[1251011, 2015, 4, 23, 10, 33, 8, 482000]\n",
      "1429798337.4710002\n",
      "[204223, 2015, 4, 17, 11, 9, 25, 39000]\n",
      "1429283160.816\n",
      "[933845, 2015, 4, 15, 10, 59, 47, 841000]\n",
      "1429109053.996\n",
      "[113189, 2015, 4, 24, 10, 47, 6, 168000]\n",
      "1429886712.979\n"
     ]
    }
   ],
   "source": [
    "fnames_eye = [os.path.join(eye_direc,f) for f in os.listdir(eye_direc) \n",
    "          if f.endswith('.asc') and not f.endswith('_fix.asc')]\n",
    "\n",
    "eye_fix_saccs = [load_asc_file(f) for f in fnames_eye]"
   ]
  },
  {
   "cell_type": "code",
   "execution_count": 6,
   "metadata": {},
   "outputs": [],
   "source": [
    "col_names = ['','initials','subject','gi','mi','status','bp','wp',\n",
    "                     'move','rt','timestamp','mouse_t','mouse_coords']\n",
    "\n",
    "fnames_game = [os.path.join(game_direc,f) for f in os.listdir(game_direc) \n",
    "          if f.endswith('.csv')]\n",
    "\n",
    "data = [load_game_file(f,col_names) for f in fnames_game]\n",
    "data_game = [d.loc[d.status.isin(['playing','win','draw'])].reset_index() for d in data]"
   ]
  },
  {
   "cell_type": "code",
   "execution_count": 7,
   "metadata": {},
   "outputs": [],
   "source": [
    "actual_moves = [(np.array(list(d['move']))[None,:]==np.array(range(36))[:,None]).T for d in data_game]\n",
    "black_pieces = [np.vstack([(list(dd['bp'])) for i,dd in d.iterrows()]).astype(int) for d in data_game]\n",
    "white_pieces = [np.vstack([(list(dd['wp'])) for i,dd in d.iterrows()]).astype(int) for d in data_game]\n",
    "black_pieces = [bp*(a==0) for bp,a in zip(black_pieces,actual_moves)]\n",
    "white_pieces = [wp*(a==0) for wp,a in zip(white_pieces,actual_moves)]\n",
    "occupied_squares = [bp + wp for bp,wp in zip(black_pieces,white_pieces)]\n",
    "\n",
    "uniform_unocc=[(o==0)/np.sum(o==0,axis=1)[:,None] for o in occupied_squares]"
   ]
  },
  {
   "cell_type": "code",
   "execution_count": 27,
   "metadata": {
    "scrolled": true
   },
   "outputs": [],
   "source": [
    "def get_fractional_coord(dist_to_tcs,dist_between_tcs,main_tile,x):\n",
    "    a=dist_to_tcs[main_tile]\n",
    "    b=dist_between_tcs[main_tile,main_tile+x]\n",
    "    c=dist_to_tcs[main_tile+x]\n",
    "    return np.sign(x)*(a**2+b**2-c**2)/(2*b*b)\n",
    "\n",
    "def get_absolute_smallest(x):\n",
    "    return x[np.argmin(np.abs(x))]\n",
    "\n",
    "def valid_shift(tile,d):\n",
    "    return tile in range(36) and tile+d in range(36) and ((tile//9 == (tile+d)//9) or (tile%9 == (tile+d)%9))\n",
    "\n",
    "def get_board_coords(eye_coords,eye_coords_tcs):\n",
    "    dist_to_tcs = np.sqrt(np.sum((eye_coords[None,:]-eye_coords_tcs)**2,axis=1))\n",
    "    dist_between_tcs= np.sqrt(np.sum((eye_coords_tcs[None,:,:]-eye_coords_tcs[:,None,:])**2,axis=2))\n",
    "    main_tile = np.argmin(dist_to_tcs,axis=0)\n",
    "    board_coords = [get_absolute_smallest([get_fractional_coord(dist_to_tcs,dist_between_tcs,main_tile,d)\n",
    "                                           for d in dirs if valid_shift(main_tile,d)]) \n",
    "            for dirs in [[-1,1],[-9,9]]]\n",
    "    if np.max(np.abs(board_coords))<=0.5:\n",
    "        return np.array(board_coords)+[main_tile%9,main_tile//9]\n",
    "    else:\n",
    "        return np.empty(shape=(2,))*np.nan\n",
    "\n",
    "def gaussian_filter(board_coords,sigma):\n",
    "    x = np.arange(36)%9\n",
    "    y = np.arange(36)//9\n",
    "    return ((sts.norm.cdf(x+0.5,loc=board_coords[0],scale=sigma)-\n",
    "             sts.norm.cdf(x-0.5,loc=board_coords[0],scale=sigma))\n",
    "            *(sts.norm.cdf(y+0.5,loc=board_coords[1],scale=sigma)-\n",
    "              sts.norm.cdf(y-0.5,loc=board_coords[1],scale=sigma)))\n",
    "     \n",
    "    \n",
    "def get_eye_hist(e,t,dt,tile_coords,sigma):\n",
    "    etdt = e[np.nonzero(e[:,0]>t)[0][0]-1:np.nonzero(e[:,0]<(t+dt))[0][-1]+1,:]\n",
    "    if len(etdt)>1:\n",
    "        durations = [etdt[1,0]-t] + list(np.diff(etdt[1:,0])) + [t+dt-etdt[-1,0]]\n",
    "        board_coords = [get_board_coords(eye_coords[1:],np.array(tile_coords)) \n",
    "                        for eye_coords in etdt]\n",
    "        h = np.sum([gaussian_filter(b,sigma)*d for b,d in zip(board_coords,durations)\n",
    "                    if not np.any(np.isnan(b))],axis=0)\n",
    "        if np.size(h) == 36:\n",
    "            return h\n",
    "        else: \n",
    "            return np.zeros(shape=(36,))\n",
    "    else:\n",
    "        return np.zeros(shape=(36,))\n",
    "    \n",
    "def get_all_hists(e,dgame,c,sigma):\n",
    "    h = np.vstack([get_eye_hist(e,dd['timestamp'],dd['rt']/1000+0.5, c,sigma) \n",
    "                      for i,dd in dgame.iterrows()])\n",
    "    print(h.shape)\n",
    "    return h\n",
    "\n",
    "def score_offset(toffset,e,ts,tile_ind):\n",
    "    x = np.interp(ts,e[:,0]+toffset,e[:,1])\n",
    "    y = np.interp(ts,e[:,0]+toffset,e[:,2])\n",
    "    return np.abs(np.corrcoef(x,tile_ind%9))[0,1]+np.abs(np.corrcoef(y,tile_ind//9))[0,1]\n",
    "\n",
    "def calibrate(d,e,f,verbose=False):\n",
    "    ts_game = d.loc[d.status=='eyecal'].timestamp\n",
    "    tile_ind = d.loc[d.status=='eyecal'].move\n",
    "    if f=='C:/Users/Bas/Google Drive/Bas Zahy Gianni - Games/Data/2_eye/Raw/Game/DL.csv':\n",
    "        ts_game = ts_game[2:]\n",
    "        tile_ind = tile_ind[2:]\n",
    "    toffset = brute(lambda x: -score_offset(x,e,ts_game,tile_ind),ranges =(slice(-5, 5, 0.01),))[0]\n",
    "    plt.show()\n",
    "    print(\"offset: \",toffset, \"second\")\n",
    "    e_corrected = np.copy(e)\n",
    "    e_corrected[:,0]+=toffset\n",
    "    \n",
    "    x = np.interp(ts_game,e_corrected[:,0],e_corrected[:,1])\n",
    "    y = np.interp(ts_game,e_corrected[:,0],e_corrected[:,2])\n",
    "    tile_coordinates = pd.DataFrame({'tile_ind': tile_ind,'x':x,\n",
    "                                     'y':y}).groupby('tile_ind').mean().values.tolist()    \n",
    "    x_unc = np.interp(ts_game,e[:,0],e[:,1])\n",
    "    y_unc = np.interp(ts_game,e[:,0],e[:,2])\n",
    "    tile_coordinates_unc = pd.DataFrame({'tile_ind': tile_ind,'x':x_unc,\n",
    "                                         'y':y_unc}).groupby('tile_ind').mean().values.tolist()    \n",
    "    \n",
    "    if verbose:\n",
    "\n",
    "        X = np.array([[get_board_coords(np.array([x,y]),np.array(tile_coordinates))\n",
    "             for x in np.arange(100,1150,5)] for y in np.arange(150,675,5)])\n",
    "        \n",
    "        plot_voronoi(x,y,tile_coordinates,tile_ind,[100,1150],[150,675])\n",
    "        plot_staircase(d,ts_game,toffset,e)\n",
    "        plot_pinwheels(X)\n",
    "            \n",
    "    return e_corrected,tile_coordinates"
   ]
  },
  {
   "cell_type": "code",
   "execution_count": 28,
   "metadata": {},
   "outputs": [],
   "source": [
    "def plot_voronoi(x,y,tile_coordinates,tile_ind,xlim,ylim):\n",
    "    fig,ax = plt.subplots(figsize=(12,8))\n",
    "    voronoi_plot_2d(Voronoi(tile_coordinates),ax=ax,show_points = False,show_vertices = False,\n",
    "                    line_colors = 'black', line_width =2)\n",
    "    \n",
    "    ax.plot(x[:36],y[:36],'.',color='gray')\n",
    "    ax.plot(x[36:],y[36:],'.',color='gray')\n",
    "    ax.plot((x[36:] + x[:36])/2,(y[36:]+y[:36])/2,'.',color='black')\n",
    "    \n",
    "    \n",
    "    #for xx,yy,ti in zip(x,y,tile_ind):\n",
    "    #    if xx>xlim[0] and xx<xlim[1] and yy>ylim[0] and yy<ylim[1]:\n",
    "    #        ax.text(xx,yy,ti)\n",
    "    ax.set_xticks(range(0,1200,200))\n",
    "    ax.set_yticks(range(0,1200,200))\n",
    "    ax.set_xlim(xlim)\n",
    "    ax.set_ylim(ylim)\n",
    "    ax.set_xlabel('Horizontal eye position(a.u.)')\n",
    "    ax.set_ylabel('Vertical eye\\nposition(a.u.)')\n",
    "    ax.spines['right'].set_visible(True)\n",
    "    ax.spines['top'].set_visible(True)\n",
    "    fig.subplots_adjust(bottom=0.12,right=0.98,left=0.15,top=0.95)    \n",
    "    fig.savefig(fig_direc + 'supp_fig_12B.pdf')\n",
    "    plt.show()"
   ]
  },
  {
   "cell_type": "code",
   "execution_count": 29,
   "metadata": {},
   "outputs": [],
   "source": [
    "def plot_pinwheels(X):\n",
    "    fig,ax = plt.subplots(figsize=(12,8))\n",
    "\n",
    "    cax = ax.imshow(np.arctan2(X[:,:,0]-np.round(X[:,:,0]),X[:,:,1]-np.round(X[:,:,1])),\n",
    "               vmin=-np.pi,vmax=np.pi,cmap='hsv',origin='lower',extent=[100,1150,150,675])\n",
    "    ax.set_xlabel('Horizontal eye position(a.u.)')\n",
    "    ax.set_ylabel('Vertical eye\\nposition(a.u.)')\n",
    "    ax.spines['right'].set_visible(True)\n",
    "    ax.spines['top'].set_visible(True)\n",
    "    cbar = fig.colorbar(cax, orientation='vertical',ticks=[-np.pi, 0, np.pi],fraction=0.05)\n",
    "    cbar.ax.set_yticklabels(['$-\\pi$','0','$\\pi$'],usetex=True)\n",
    "    fig.subplots_adjust(bottom=0.1,right=0.95,left=0.15,top=0.95)    \n",
    "    fig.savefig(fig_direc + 'supp_fig_12C.pdf')\n",
    "    plt.show()\n",
    "\n",
    "    fig,ax = plt.subplots(figsize=(12,8))\n",
    "    cax = ax.imshow(np.max(np.abs(X-np.round(X)),axis=2),vmax=0.5,vmin=0,origin='lower',\n",
    "               cmap='jet',extent=[100,1150,150,675])\n",
    "    cbar = fig.colorbar(cax, orientation='vertical',ticks=[0,0.5],fraction=0.05)\n",
    "    cbar.ax.set_yticklabels([0,0.5],usetex=False)\n",
    "\n",
    "    ax.set_xlabel('Horizontal eye position(a.u.)')\n",
    "    ax.set_ylabel('Vertical eye\\nposition(a.u.)')\n",
    "    ax.spines['right'].set_visible(True)\n",
    "    ax.spines['top'].set_visible(True)\n",
    "    fig.subplots_adjust(bottom=0.1,right=0.95,left=0.15,top=0.95)    \n",
    "    fig.savefig(fig_direc + 'supp_fig_12D.pdf')\n",
    "    plt.show()"
   ]
  },
  {
   "cell_type": "code",
   "execution_count": 30,
   "metadata": {},
   "outputs": [],
   "source": [
    "def plot_staircase(d,ts_game,toffset,e):\n",
    "    t_firstmove = np.min(d.loc[d.status=='playing'].timestamp)\n",
    "\n",
    "    fig,ax = plt.subplots(figsize=(12,8))\n",
    "    for d,ts in zip([0,80],[[t for t in ts_game if t< t_firstmove],\n",
    "                    [t for t in ts_game if t> t_firstmove]]):\n",
    "        t1 = np.min(ts)-5\n",
    "        t2 = np.max(ts)+5\n",
    "        ind = np.logical_and(e[:,0]>t1,e[:,0]<t2)\n",
    "\n",
    "        ax.plot(e[ind,0]-ts[0]+d,e[ind,1],'-',color='C0')\n",
    "        ax.plot(e[ind,0]-ts[0]+d,e[ind,2],'-',color='C1')\n",
    "        for t in ts:\n",
    "            ax.axvline(t-toffset-ts[0]+d,color='black',zorder=-1,linewidth=1)\n",
    "    ax.set_xlabel('Time(s)')\n",
    "    ax.set_ylabel('Eye position(a.u.)')\n",
    "    ax.set_ylim([75,1225])\n",
    "    ax.set_xticks([0,20,40,60,80,100,120,140])\n",
    "    ax.set_xticklabels([0,20,40,60,0,20,40,60])\n",
    "    \n",
    "    fig.subplots_adjust(bottom=0.12,right=0.98,left=0.15,top=0.95)    \n",
    "    fig.savefig(fig_direc + 'supp_fig_12A.pdf')\n",
    "    plt.show()\n"
   ]
  },
  {
   "cell_type": "code",
   "execution_count": null,
   "metadata": {
    "scrolled": false
   },
   "outputs": [],
   "source": [
    "i=0\n",
    "_ = calibrate(data[i],eye_fix_saccs[i],fnames_game[i],verbose=True)"
   ]
  },
  {
   "cell_type": "code",
   "execution_count": 25,
   "metadata": {},
   "outputs": [
    {
     "name": "stdout",
     "output_type": "stream",
     "text": [
      "offset:  0.23098828124988804 second\n",
      "offset:  -0.47587500000009775 second\n",
      "offset:  0.11746874999989318 second\n",
      "offset:  -3.285100341796911 second\n",
      "offset:  -0.47794140625009374 second\n",
      "offset:  -0.6789492187500954 second\n",
      "offset:  0.06835937499989445 second\n",
      "offset:  -2.3602880859375563 second\n",
      "offset:  -1.0931933593750836 second\n",
      "offset:  0.07098437499989041 second\n"
     ]
    }
   ],
   "source": [
    "eye_corrected,calibration_coordinates = zip(*[calibrate(d,e,f,verbose=False) for d,e,f in \n",
    "                                              zip(data,eye_fix_saccs,fnames_game)])"
   ]
  },
  {
   "cell_type": "code",
   "execution_count": 26,
   "metadata": {},
   "outputs": [],
   "source": [
    "def pad_to_36(x):\n",
    "    if len(x)<36:\n",
    "        return np.append(x,[0]*(36-len(x)))\n",
    "    return x\n",
    "\n",
    "def get_mouse_tile(mouse_coords):\n",
    "    top = 507\n",
    "    bottom = 192\n",
    "    left = 177\n",
    "    right = 890\n",
    "    return (np.floor(9*(mouse_coords[0]-left)/(right-left))+\n",
    "            9*(np.floor(4*(mouse_coords[1]-bottom)/(top-bottom))))\n",
    "\n",
    "def get_mouse_hist(line):\n",
    "    tiles = [get_mouse_tile([int(x) for x in m.split(\",\")]) \n",
    "             for m in line['mouse_coords'].split(\";\")]\n",
    "    durations = np.diff([int(t) for t in line['mouse_t'].split(\",\")])\n",
    "    return pad_to_36(np.bincount(tiles[1:],weights=durations))"
   ]
  },
  {
   "cell_type": "code",
   "execution_count": 15,
   "metadata": {},
   "outputs": [],
   "source": [
    "def get_normalized_hist(h,o,u):\n",
    "    h_unocc=h.astype('float')*(o==0)\n",
    "    ind=np.sum(h_unocc,axis=1)==0\n",
    "    h_unocc[ind,:]=u[ind,:]\n",
    "    h_unocc_norm=h_unocc/np.sum(h_unocc,axis=1)[:,None]\n",
    "    return h_unocc_norm"
   ]
  },
  {
   "cell_type": "code",
   "execution_count": 16,
   "metadata": {},
   "outputs": [
    {
     "name": "stdout",
     "output_type": "stream",
     "text": [
      "(128, 36)\n",
      "(160, 36)\n",
      "(97, 36)\n",
      "(117, 36)\n",
      "(133, 36)\n",
      "(113, 36)\n",
      "(138, 36)\n",
      "(176, 36)\n",
      "(147, 36)\n",
      "(102, 36)\n"
     ]
    }
   ],
   "source": [
    "eye_hists = [get_all_hists(e,dgame,c,0.5) for e,c,dgame in \n",
    "             zip(eye_corrected,calibration_coordinates,data_game)]\n",
    "\n",
    "eye_hist_norm = [get_normalized_hist(e,o,u) for e,o,u in \n",
    "                 zip(eye_hists,occupied_squares,uniform_unocc)]\n"
   ]
  },
  {
   "cell_type": "code",
   "execution_count": 17,
   "metadata": {},
   "outputs": [],
   "source": [
    "model_regressors = np.loadtxt(model_direc + 'fix_depth_unocc_50.txt')\n",
    "subjects=np.loadtxt(model_direc + '../Move statistics/move_stats_eye.txt')[:,0]\n",
    "\n",
    "model_regressors_norm = [[get_normalized_hist(model_regressors[np.repeat(subjects==i,36),:][j::36],o,u) \n",
    "                          for j in range(36)] \n",
    "                         for i,(o,u) in enumerate(zip(occupied_squares,uniform_unocc))]"
   ]
  },
  {
   "cell_type": "code",
   "execution_count": 18,
   "metadata": {},
   "outputs": [],
   "source": [
    "mouse_hists = [np.vstack([get_mouse_hist(dd) for i,dd in d.iterrows()]) for d in data_game] \n",
    "\n",
    "mouse_hist_norm = [get_normalized_hist(m,o,u) for m,o,u in \n",
    "                 zip(mouse_hists,occupied_squares,uniform_unocc)]\n"
   ]
  },
  {
   "cell_type": "code",
   "execution_count": 19,
   "metadata": {},
   "outputs": [],
   "source": [
    "random_hist_norm = [get_normalized_hist(np.random.uniform(size=o.shape),o,u) for o,u in \n",
    "                    zip(occupied_squares,uniform_unocc)]\n"
   ]
  },
  {
   "cell_type": "code",
   "execution_count": 20,
   "metadata": {},
   "outputs": [
    {
     "name": "stdout",
     "output_type": "stream",
     "text": [
      "0.37269264064038127 0.02729961931947966\n"
     ]
    },
    {
     "data": {
      "image/png": "[encoded data removed]",
      "text/plain": [
       "<Figure size 432x432 with 1 Axes>"
      ]
     },
     "metadata": {
      "needs_background": "light"
     },
     "output_type": "display_data"
    }
   ],
   "source": [
    "def plot_with_errorbars(fig,ax,x,color,label):\n",
    "    ax.plot([0,1],[-1,-1],color=color,label=label)\n",
    "    ax.errorbar(x=range(x.shape[1]),y=np.mean(x,axis=0),\n",
    "                yerr=np.std(x,axis=0)/np.sqrt(x.shape[0]),color=color)\n",
    "    ax.axhline(y=0,color='black')\n",
    "    \n",
    "fig,ax=plt.subplots()\n",
    "\n",
    "x = [np.mean(np.argsort(-e*(o==0)-0.001*np.random.uniform(size=e.shape),axis=1)==\n",
    "             (np.nonzero(a)[1])[:,None],axis=0) \n",
    "     for e,o,a in zip(eye_hist_norm,occupied_squares,actual_moves)]\n",
    "print(np.mean([xx[0] for xx in x]),np.std([xx[0] for xx in x])/np.sqrt(10))\n",
    "\n",
    "plot_with_errorbars(fig,ax,np.array(x),'gold','Eye movements')\n",
    "\n",
    "x = [np.mean(np.argsort(-e*(o==0)-0.001*np.random.uniform(size=e.shape),axis=1)==\n",
    "             (np.nonzero(a)[1])[:,None],axis=0) \n",
    "     for e,o,a in zip(mouse_hist_norm,occupied_squares,actual_moves)]\n",
    "\n",
    "plot_with_errorbars(fig,ax,np.array(x),'blue','Cursor movements')\n",
    "\n",
    "x = [np.mean(np.argsort(-0.001*np.random.uniform(size=e.shape)*(o==0),axis=1)==\n",
    "             (np.nonzero(a)[1])[:,None],axis=0) \n",
    "     for e,o,a in zip(eye_hist_norm,occupied_squares,actual_moves)]\n",
    "\n",
    "plot_with_errorbars(fig,ax,np.array(x),'gray','Random')\n",
    "ax.set_xlabel('Attentional rank')\n",
    "ax.set_ylabel('Frequency')\n",
    "ax.spines['top'].set_visible(False)\n",
    "ax.spines['right'].set_visible(False)\n",
    "ax.text(0.02, 0.9, 'C', horizontalalignment='center',\n",
    "    verticalalignment='center', transform=fig.transFigure, fontsize = 20)\n",
    "ax.legend(frameon=False)\n",
    "ax.set_ylim([-0.05,0.6])\n",
    "fig.tight_layout()\n",
    "fig.savefig(fig_direc + 'eyetracking_C.pdf')\n",
    "plt.show()"
   ]
  },
  {
   "cell_type": "code",
   "execution_count": 21,
   "metadata": {},
   "outputs": [
    {
     "ename": "KeyboardInterrupt",
     "evalue": "",
     "output_type": "error",
     "traceback": [
      "\u001b[1;31m---------------------------------------------------------------------------\u001b[0m",
      "\u001b[1;31mKeyboardInterrupt\u001b[0m                         Traceback (most recent call last)",
      "\u001b[1;32m<ipython-input-21-ceeebdbf927e>\u001b[0m in \u001b[0;36m<module>\u001b[1;34m\u001b[0m\n\u001b[0;32m     16\u001b[0m \u001b[1;32mfor\u001b[0m \u001b[0mr\u001b[0m\u001b[1;33m,\u001b[0m\u001b[0me\u001b[0m \u001b[1;32min\u001b[0m \u001b[0mzip\u001b[0m\u001b[1;33m(\u001b[0m\u001b[0mregression_results\u001b[0m\u001b[1;33m[\u001b[0m\u001b[1;36m0\u001b[0m\u001b[1;33m]\u001b[0m\u001b[1;33m,\u001b[0m\u001b[0meye_hist_norm\u001b[0m\u001b[1;33m)\u001b[0m\u001b[1;33m:\u001b[0m\u001b[1;33m\u001b[0m\u001b[1;33m\u001b[0m\u001b[0m\n\u001b[0;32m     17\u001b[0m     \u001b[0mplt\u001b[0m\u001b[1;33m.\u001b[0m\u001b[0mplot\u001b[0m\u001b[1;33m(\u001b[0m\u001b[0mr\u001b[0m\u001b[1;33m[\u001b[0m\u001b[1;36m0\u001b[0m\u001b[1;33m]\u001b[0m\u001b[1;33m,\u001b[0m\u001b[0me\u001b[0m\u001b[1;33m,\u001b[0m\u001b[1;34m'.'\u001b[0m\u001b[1;33m)\u001b[0m\u001b[1;33m\u001b[0m\u001b[1;33m\u001b[0m\u001b[0m\n\u001b[1;32m---> 18\u001b[1;33m \u001b[0mplt\u001b[0m\u001b[1;33m.\u001b[0m\u001b[0mshow\u001b[0m\u001b[1;33m(\u001b[0m\u001b[1;33m)\u001b[0m\u001b[1;33m\u001b[0m\u001b[1;33m\u001b[0m\u001b[0m\n\u001b[0m",
      "\u001b[1;32m~\\AppData\\Local\\Continuum\\anaconda3\\lib\\site-packages\\matplotlib\\pyplot.py\u001b[0m in \u001b[0;36mshow\u001b[1;34m(*args, **kwargs)\u001b[0m\n\u001b[0;32m    335\u001b[0m     \"\"\"\n\u001b[0;32m    336\u001b[0m     \u001b[0m_warn_if_gui_out_of_main_thread\u001b[0m\u001b[1;33m(\u001b[0m\u001b[1;33m)\u001b[0m\u001b[1;33m\u001b[0m\u001b[1;33m\u001b[0m\u001b[0m\n\u001b[1;32m--> 337\u001b[1;33m     \u001b[1;32mreturn\u001b[0m \u001b[0m_backend_mod\u001b[0m\u001b[1;33m.\u001b[0m\u001b[0mshow\u001b[0m\u001b[1;33m(\u001b[0m\u001b[1;33m*\u001b[0m\u001b[0margs\u001b[0m\u001b[1;33m,\u001b[0m \u001b[1;33m**\u001b[0m\u001b[0mkwargs\u001b[0m\u001b[1;33m)\u001b[0m\u001b[1;33m\u001b[0m\u001b[1;33m\u001b[0m\u001b[0m\n\u001b[0m\u001b[0;32m    338\u001b[0m \u001b[1;33m\u001b[0m\u001b[0m\n\u001b[0;32m    339\u001b[0m \u001b[1;33m\u001b[0m\u001b[0m\n",
      "\u001b[1;32m~\\AppData\\Local\\Continuum\\anaconda3\\lib\\site-packages\\ipykernel\\pylab\\backend_inline.py\u001b[0m in \u001b[0;36mshow\u001b[1;34m(close, block)\u001b[0m\n\u001b[0;32m     41\u001b[0m             display(\n\u001b[0;32m     42\u001b[0m                 \u001b[0mfigure_manager\u001b[0m\u001b[1;33m.\u001b[0m\u001b[0mcanvas\u001b[0m\u001b[1;33m.\u001b[0m\u001b[0mfigure\u001b[0m\u001b[1;33m,\u001b[0m\u001b[1;33m\u001b[0m\u001b[1;33m\u001b[0m\u001b[0m\n\u001b[1;32m---> 43\u001b[1;33m                 \u001b[0mmetadata\u001b[0m\u001b[1;33m=\u001b[0m\u001b[0m_fetch_figure_metadata\u001b[0m\u001b[1;33m(\u001b[0m\u001b[0mfigure_manager\u001b[0m\u001b[1;33m.\u001b[0m\u001b[0mcanvas\u001b[0m\u001b[1;33m.\u001b[0m\u001b[0mfigure\u001b[0m\u001b[1;33m)\u001b[0m\u001b[1;33m\u001b[0m\u001b[1;33m\u001b[0m\u001b[0m\n\u001b[0m\u001b[0;32m     44\u001b[0m             )\n\u001b[0;32m     45\u001b[0m     \u001b[1;32mfinally\u001b[0m\u001b[1;33m:\u001b[0m\u001b[1;33m\u001b[0m\u001b[1;33m\u001b[0m\u001b[0m\n",
      "\u001b[1;32m~\\AppData\\Local\\Continuum\\anaconda3\\lib\\site-packages\\IPython\\core\\display.py\u001b[0m in \u001b[0;36mdisplay\u001b[1;34m(include, exclude, metadata, transient, display_id, *objs, **kwargs)\u001b[0m\n\u001b[0;32m    311\u001b[0m             \u001b[0mpublish_display_data\u001b[0m\u001b[1;33m(\u001b[0m\u001b[0mdata\u001b[0m\u001b[1;33m=\u001b[0m\u001b[0mobj\u001b[0m\u001b[1;33m,\u001b[0m \u001b[0mmetadata\u001b[0m\u001b[1;33m=\u001b[0m\u001b[0mmetadata\u001b[0m\u001b[1;33m,\u001b[0m \u001b[1;33m**\u001b[0m\u001b[0mkwargs\u001b[0m\u001b[1;33m)\u001b[0m\u001b[1;33m\u001b[0m\u001b[1;33m\u001b[0m\u001b[0m\n\u001b[0;32m    312\u001b[0m         \u001b[1;32melse\u001b[0m\u001b[1;33m:\u001b[0m\u001b[1;33m\u001b[0m\u001b[1;33m\u001b[0m\u001b[0m\n\u001b[1;32m--> 313\u001b[1;33m             \u001b[0mformat_dict\u001b[0m\u001b[1;33m,\u001b[0m \u001b[0mmd_dict\u001b[0m \u001b[1;33m=\u001b[0m \u001b[0mformat\u001b[0m\u001b[1;33m(\u001b[0m\u001b[0mobj\u001b[0m\u001b[1;33m,\u001b[0m \u001b[0minclude\u001b[0m\u001b[1;33m=\u001b[0m\u001b[0minclude\u001b[0m\u001b[1;33m,\u001b[0m \u001b[0mexclude\u001b[0m\u001b[1;33m=\u001b[0m\u001b[0mexclude\u001b[0m\u001b[1;33m)\u001b[0m\u001b[1;33m\u001b[0m\u001b[1;33m\u001b[0m\u001b[0m\n\u001b[0m\u001b[0;32m    314\u001b[0m             \u001b[1;32mif\u001b[0m \u001b[1;32mnot\u001b[0m \u001b[0mformat_dict\u001b[0m\u001b[1;33m:\u001b[0m\u001b[1;33m\u001b[0m\u001b[1;33m\u001b[0m\u001b[0m\n\u001b[0;32m    315\u001b[0m                 \u001b[1;31m# nothing to display (e.g. _ipython_display_ took over)\u001b[0m\u001b[1;33m\u001b[0m\u001b[1;33m\u001b[0m\u001b[1;33m\u001b[0m\u001b[0m\n",
      "\u001b[1;32m~\\AppData\\Local\\Continuum\\anaconda3\\lib\\site-packages\\IPython\\core\\formatters.py\u001b[0m in \u001b[0;36mformat\u001b[1;34m(self, obj, include, exclude)\u001b[0m\n\u001b[0;32m    178\u001b[0m             \u001b[0mmd\u001b[0m \u001b[1;33m=\u001b[0m \u001b[1;32mNone\u001b[0m\u001b[1;33m\u001b[0m\u001b[1;33m\u001b[0m\u001b[0m\n\u001b[0;32m    179\u001b[0m             \u001b[1;32mtry\u001b[0m\u001b[1;33m:\u001b[0m\u001b[1;33m\u001b[0m\u001b[1;33m\u001b[0m\u001b[0m\n\u001b[1;32m--> 180\u001b[1;33m                 \u001b[0mdata\u001b[0m \u001b[1;33m=\u001b[0m \u001b[0mformatter\u001b[0m\u001b[1;33m(\u001b[0m\u001b[0mobj\u001b[0m\u001b[1;33m)\u001b[0m\u001b[1;33m\u001b[0m\u001b[1;33m\u001b[0m\u001b[0m\n\u001b[0m\u001b[0;32m    181\u001b[0m             \u001b[1;32mexcept\u001b[0m\u001b[1;33m:\u001b[0m\u001b[1;33m\u001b[0m\u001b[1;33m\u001b[0m\u001b[0m\n\u001b[0;32m    182\u001b[0m                 \u001b[1;31m# FIXME: log the exception\u001b[0m\u001b[1;33m\u001b[0m\u001b[1;33m\u001b[0m\u001b[1;33m\u001b[0m\u001b[0m\n",
      "\u001b[1;32m<decorator-gen-9>\u001b[0m in \u001b[0;36m__call__\u001b[1;34m(self, obj)\u001b[0m\n",
      "\u001b[1;32m~\\AppData\\Local\\Continuum\\anaconda3\\lib\\site-packages\\IPython\\core\\formatters.py\u001b[0m in \u001b[0;36mcatch_format_error\u001b[1;34m(method, self, *args, **kwargs)\u001b[0m\n\u001b[0;32m    222\u001b[0m     \u001b[1;34m\"\"\"show traceback on failed format call\"\"\"\u001b[0m\u001b[1;33m\u001b[0m\u001b[1;33m\u001b[0m\u001b[0m\n\u001b[0;32m    223\u001b[0m     \u001b[1;32mtry\u001b[0m\u001b[1;33m:\u001b[0m\u001b[1;33m\u001b[0m\u001b[1;33m\u001b[0m\u001b[0m\n\u001b[1;32m--> 224\u001b[1;33m         \u001b[0mr\u001b[0m \u001b[1;33m=\u001b[0m \u001b[0mmethod\u001b[0m\u001b[1;33m(\u001b[0m\u001b[0mself\u001b[0m\u001b[1;33m,\u001b[0m \u001b[1;33m*\u001b[0m\u001b[0margs\u001b[0m\u001b[1;33m,\u001b[0m \u001b[1;33m**\u001b[0m\u001b[0mkwargs\u001b[0m\u001b[1;33m)\u001b[0m\u001b[1;33m\u001b[0m\u001b[1;33m\u001b[0m\u001b[0m\n\u001b[0m\u001b[0;32m    225\u001b[0m     \u001b[1;32mexcept\u001b[0m \u001b[0mNotImplementedError\u001b[0m\u001b[1;33m:\u001b[0m\u001b[1;33m\u001b[0m\u001b[1;33m\u001b[0m\u001b[0m\n\u001b[0;32m    226\u001b[0m         \u001b[1;31m# don't warn on NotImplementedErrors\u001b[0m\u001b[1;33m\u001b[0m\u001b[1;33m\u001b[0m\u001b[1;33m\u001b[0m\u001b[0m\n",
      "\u001b[1;32m~\\AppData\\Local\\Continuum\\anaconda3\\lib\\site-packages\\IPython\\core\\formatters.py\u001b[0m in \u001b[0;36m__call__\u001b[1;34m(self, obj)\u001b[0m\n\u001b[0;32m    339\u001b[0m                 \u001b[1;32mpass\u001b[0m\u001b[1;33m\u001b[0m\u001b[1;33m\u001b[0m\u001b[0m\n\u001b[0;32m    340\u001b[0m             \u001b[1;32melse\u001b[0m\u001b[1;33m:\u001b[0m\u001b[1;33m\u001b[0m\u001b[1;33m\u001b[0m\u001b[0m\n\u001b[1;32m--> 341\u001b[1;33m                 \u001b[1;32mreturn\u001b[0m \u001b[0mprinter\u001b[0m\u001b[1;33m(\u001b[0m\u001b[0mobj\u001b[0m\u001b[1;33m)\u001b[0m\u001b[1;33m\u001b[0m\u001b[1;33m\u001b[0m\u001b[0m\n\u001b[0m\u001b[0;32m    342\u001b[0m             \u001b[1;31m# Finally look for special method names\u001b[0m\u001b[1;33m\u001b[0m\u001b[1;33m\u001b[0m\u001b[1;33m\u001b[0m\u001b[0m\n\u001b[0;32m    343\u001b[0m             \u001b[0mmethod\u001b[0m \u001b[1;33m=\u001b[0m \u001b[0mget_real_method\u001b[0m\u001b[1;33m(\u001b[0m\u001b[0mobj\u001b[0m\u001b[1;33m,\u001b[0m \u001b[0mself\u001b[0m\u001b[1;33m.\u001b[0m\u001b[0mprint_method\u001b[0m\u001b[1;33m)\u001b[0m\u001b[1;33m\u001b[0m\u001b[1;33m\u001b[0m\u001b[0m\n",
      "\u001b[1;32m~\\AppData\\Local\\Continuum\\anaconda3\\lib\\site-packages\\IPython\\core\\pylabtools.py\u001b[0m in \u001b[0;36m<lambda>\u001b[1;34m(fig)\u001b[0m\n\u001b[0;32m    246\u001b[0m \u001b[1;33m\u001b[0m\u001b[0m\n\u001b[0;32m    247\u001b[0m     \u001b[1;32mif\u001b[0m \u001b[1;34m'png'\u001b[0m \u001b[1;32min\u001b[0m \u001b[0mformats\u001b[0m\u001b[1;33m:\u001b[0m\u001b[1;33m\u001b[0m\u001b[1;33m\u001b[0m\u001b[0m\n\u001b[1;32m--> 248\u001b[1;33m         \u001b[0mpng_formatter\u001b[0m\u001b[1;33m.\u001b[0m\u001b[0mfor_type\u001b[0m\u001b[1;33m(\u001b[0m\u001b[0mFigure\u001b[0m\u001b[1;33m,\u001b[0m \u001b[1;32mlambda\u001b[0m \u001b[0mfig\u001b[0m\u001b[1;33m:\u001b[0m \u001b[0mprint_figure\u001b[0m\u001b[1;33m(\u001b[0m\u001b[0mfig\u001b[0m\u001b[1;33m,\u001b[0m \u001b[1;34m'png'\u001b[0m\u001b[1;33m,\u001b[0m \u001b[1;33m**\u001b[0m\u001b[0mkwargs\u001b[0m\u001b[1;33m)\u001b[0m\u001b[1;33m)\u001b[0m\u001b[1;33m\u001b[0m\u001b[1;33m\u001b[0m\u001b[0m\n\u001b[0m\u001b[0;32m    249\u001b[0m     \u001b[1;32mif\u001b[0m \u001b[1;34m'retina'\u001b[0m \u001b[1;32min\u001b[0m \u001b[0mformats\u001b[0m \u001b[1;32mor\u001b[0m \u001b[1;34m'png2x'\u001b[0m \u001b[1;32min\u001b[0m \u001b[0mformats\u001b[0m\u001b[1;33m:\u001b[0m\u001b[1;33m\u001b[0m\u001b[1;33m\u001b[0m\u001b[0m\n\u001b[0;32m    250\u001b[0m         \u001b[0mpng_formatter\u001b[0m\u001b[1;33m.\u001b[0m\u001b[0mfor_type\u001b[0m\u001b[1;33m(\u001b[0m\u001b[0mFigure\u001b[0m\u001b[1;33m,\u001b[0m \u001b[1;32mlambda\u001b[0m \u001b[0mfig\u001b[0m\u001b[1;33m:\u001b[0m \u001b[0mretina_figure\u001b[0m\u001b[1;33m(\u001b[0m\u001b[0mfig\u001b[0m\u001b[1;33m,\u001b[0m \u001b[1;33m**\u001b[0m\u001b[0mkwargs\u001b[0m\u001b[1;33m)\u001b[0m\u001b[1;33m)\u001b[0m\u001b[1;33m\u001b[0m\u001b[1;33m\u001b[0m\u001b[0m\n",
      "\u001b[1;32m~\\AppData\\Local\\Continuum\\anaconda3\\lib\\site-packages\\IPython\\core\\pylabtools.py\u001b[0m in \u001b[0;36mprint_figure\u001b[1;34m(fig, fmt, bbox_inches, **kwargs)\u001b[0m\n\u001b[0;32m    130\u001b[0m         \u001b[0mFigureCanvasBase\u001b[0m\u001b[1;33m(\u001b[0m\u001b[0mfig\u001b[0m\u001b[1;33m)\u001b[0m\u001b[1;33m\u001b[0m\u001b[1;33m\u001b[0m\u001b[0m\n\u001b[0;32m    131\u001b[0m \u001b[1;33m\u001b[0m\u001b[0m\n\u001b[1;32m--> 132\u001b[1;33m     \u001b[0mfig\u001b[0m\u001b[1;33m.\u001b[0m\u001b[0mcanvas\u001b[0m\u001b[1;33m.\u001b[0m\u001b[0mprint_figure\u001b[0m\u001b[1;33m(\u001b[0m\u001b[0mbytes_io\u001b[0m\u001b[1;33m,\u001b[0m \u001b[1;33m**\u001b[0m\u001b[0mkw\u001b[0m\u001b[1;33m)\u001b[0m\u001b[1;33m\u001b[0m\u001b[1;33m\u001b[0m\u001b[0m\n\u001b[0m\u001b[0;32m    133\u001b[0m     \u001b[0mdata\u001b[0m \u001b[1;33m=\u001b[0m \u001b[0mbytes_io\u001b[0m\u001b[1;33m.\u001b[0m\u001b[0mgetvalue\u001b[0m\u001b[1;33m(\u001b[0m\u001b[1;33m)\u001b[0m\u001b[1;33m\u001b[0m\u001b[1;33m\u001b[0m\u001b[0m\n\u001b[0;32m    134\u001b[0m     \u001b[1;32mif\u001b[0m \u001b[0mfmt\u001b[0m \u001b[1;33m==\u001b[0m \u001b[1;34m'svg'\u001b[0m\u001b[1;33m:\u001b[0m\u001b[1;33m\u001b[0m\u001b[1;33m\u001b[0m\u001b[0m\n",
      "\u001b[1;32m~\\AppData\\Local\\Continuum\\anaconda3\\lib\\site-packages\\matplotlib\\backend_bases.py\u001b[0m in \u001b[0;36mprint_figure\u001b[1;34m(self, filename, dpi, facecolor, edgecolor, orientation, format, bbox_inches, pad_inches, bbox_extra_artists, backend, **kwargs)\u001b[0m\n\u001b[0;32m   2194\u001b[0m \u001b[1;33m\u001b[0m\u001b[0m\n\u001b[0;32m   2195\u001b[0m                     bbox_inches = self.figure.get_tightbbox(\n\u001b[1;32m-> 2196\u001b[1;33m                         renderer, bbox_extra_artists=bbox_extra_artists)\n\u001b[0m\u001b[0;32m   2197\u001b[0m                     \u001b[1;32mif\u001b[0m \u001b[0mpad_inches\u001b[0m \u001b[1;32mis\u001b[0m \u001b[1;32mNone\u001b[0m\u001b[1;33m:\u001b[0m\u001b[1;33m\u001b[0m\u001b[1;33m\u001b[0m\u001b[0m\n\u001b[0;32m   2198\u001b[0m                         \u001b[0mpad_inches\u001b[0m \u001b[1;33m=\u001b[0m \u001b[0mrcParams\u001b[0m\u001b[1;33m[\u001b[0m\u001b[1;34m'savefig.pad_inches'\u001b[0m\u001b[1;33m]\u001b[0m\u001b[1;33m\u001b[0m\u001b[1;33m\u001b[0m\u001b[0m\n",
      "\u001b[1;32m~\\AppData\\Local\\Continuum\\anaconda3\\lib\\site-packages\\matplotlib\\figure.py\u001b[0m in \u001b[0;36mget_tightbbox\u001b[1;34m(self, renderer, bbox_extra_artists)\u001b[0m\n\u001b[0;32m   2504\u001b[0m \u001b[1;33m\u001b[0m\u001b[0m\n\u001b[0;32m   2505\u001b[0m         \u001b[1;32mfor\u001b[0m \u001b[0ma\u001b[0m \u001b[1;32min\u001b[0m \u001b[0martists\u001b[0m\u001b[1;33m:\u001b[0m\u001b[1;33m\u001b[0m\u001b[1;33m\u001b[0m\u001b[0m\n\u001b[1;32m-> 2506\u001b[1;33m             \u001b[0mbbox\u001b[0m \u001b[1;33m=\u001b[0m \u001b[0ma\u001b[0m\u001b[1;33m.\u001b[0m\u001b[0mget_tightbbox\u001b[0m\u001b[1;33m(\u001b[0m\u001b[0mrenderer\u001b[0m\u001b[1;33m)\u001b[0m\u001b[1;33m\u001b[0m\u001b[1;33m\u001b[0m\u001b[0m\n\u001b[0m\u001b[0;32m   2507\u001b[0m             \u001b[1;32mif\u001b[0m \u001b[0mbbox\u001b[0m \u001b[1;32mis\u001b[0m \u001b[1;32mnot\u001b[0m \u001b[1;32mNone\u001b[0m \u001b[1;32mand\u001b[0m \u001b[1;33m(\u001b[0m\u001b[0mbbox\u001b[0m\u001b[1;33m.\u001b[0m\u001b[0mwidth\u001b[0m \u001b[1;33m!=\u001b[0m \u001b[1;36m0\u001b[0m \u001b[1;32mor\u001b[0m \u001b[0mbbox\u001b[0m\u001b[1;33m.\u001b[0m\u001b[0mheight\u001b[0m \u001b[1;33m!=\u001b[0m \u001b[1;36m0\u001b[0m\u001b[1;33m)\u001b[0m\u001b[1;33m:\u001b[0m\u001b[1;33m\u001b[0m\u001b[1;33m\u001b[0m\u001b[0m\n\u001b[0;32m   2508\u001b[0m                 \u001b[0mbb\u001b[0m\u001b[1;33m.\u001b[0m\u001b[0mappend\u001b[0m\u001b[1;33m(\u001b[0m\u001b[0mbbox\u001b[0m\u001b[1;33m)\u001b[0m\u001b[1;33m\u001b[0m\u001b[1;33m\u001b[0m\u001b[0m\n",
      "\u001b[1;32m~\\AppData\\Local\\Continuum\\anaconda3\\lib\\site-packages\\matplotlib\\artist.py\u001b[0m in \u001b[0;36mget_tightbbox\u001b[1;34m(self, renderer)\u001b[0m\n\u001b[0;32m    280\u001b[0m             \u001b[0mclip_box\u001b[0m \u001b[1;33m=\u001b[0m \u001b[0mself\u001b[0m\u001b[1;33m.\u001b[0m\u001b[0mget_clip_box\u001b[0m\u001b[1;33m(\u001b[0m\u001b[1;33m)\u001b[0m\u001b[1;33m\u001b[0m\u001b[1;33m\u001b[0m\u001b[0m\n\u001b[0;32m    281\u001b[0m             \u001b[1;32mif\u001b[0m \u001b[0mclip_box\u001b[0m \u001b[1;32mis\u001b[0m \u001b[1;32mnot\u001b[0m \u001b[1;32mNone\u001b[0m\u001b[1;33m:\u001b[0m\u001b[1;33m\u001b[0m\u001b[1;33m\u001b[0m\u001b[0m\n\u001b[1;32m--> 282\u001b[1;33m                 \u001b[0mbbox\u001b[0m \u001b[1;33m=\u001b[0m \u001b[0mBbox\u001b[0m\u001b[1;33m.\u001b[0m\u001b[0mintersection\u001b[0m\u001b[1;33m(\u001b[0m\u001b[0mbbox\u001b[0m\u001b[1;33m,\u001b[0m \u001b[0mclip_box\u001b[0m\u001b[1;33m)\u001b[0m\u001b[1;33m\u001b[0m\u001b[1;33m\u001b[0m\u001b[0m\n\u001b[0m\u001b[0;32m    283\u001b[0m             \u001b[0mclip_path\u001b[0m \u001b[1;33m=\u001b[0m \u001b[0mself\u001b[0m\u001b[1;33m.\u001b[0m\u001b[0mget_clip_path\u001b[0m\u001b[1;33m(\u001b[0m\u001b[1;33m)\u001b[0m\u001b[1;33m\u001b[0m\u001b[1;33m\u001b[0m\u001b[0m\n\u001b[0;32m    284\u001b[0m             \u001b[1;32mif\u001b[0m \u001b[0mclip_path\u001b[0m \u001b[1;32mis\u001b[0m \u001b[1;32mnot\u001b[0m \u001b[1;32mNone\u001b[0m \u001b[1;32mand\u001b[0m \u001b[0mbbox\u001b[0m \u001b[1;32mis\u001b[0m \u001b[1;32mnot\u001b[0m \u001b[1;32mNone\u001b[0m\u001b[1;33m:\u001b[0m\u001b[1;33m\u001b[0m\u001b[1;33m\u001b[0m\u001b[0m\n",
      "\u001b[1;32m~\\AppData\\Local\\Continuum\\anaconda3\\lib\\site-packages\\matplotlib\\transforms.py\u001b[0m in \u001b[0;36mintersection\u001b[1;34m(bbox1, bbox2)\u001b[0m\n\u001b[0;32m    677\u001b[0m         \"\"\"\n\u001b[0;32m    678\u001b[0m         \u001b[0mx0\u001b[0m \u001b[1;33m=\u001b[0m \u001b[0mnp\u001b[0m\u001b[1;33m.\u001b[0m\u001b[0mmaximum\u001b[0m\u001b[1;33m(\u001b[0m\u001b[0mbbox1\u001b[0m\u001b[1;33m.\u001b[0m\u001b[0mxmin\u001b[0m\u001b[1;33m,\u001b[0m \u001b[0mbbox2\u001b[0m\u001b[1;33m.\u001b[0m\u001b[0mxmin\u001b[0m\u001b[1;33m)\u001b[0m\u001b[1;33m\u001b[0m\u001b[1;33m\u001b[0m\u001b[0m\n\u001b[1;32m--> 679\u001b[1;33m         \u001b[0mx1\u001b[0m \u001b[1;33m=\u001b[0m \u001b[0mnp\u001b[0m\u001b[1;33m.\u001b[0m\u001b[0mminimum\u001b[0m\u001b[1;33m(\u001b[0m\u001b[0mbbox1\u001b[0m\u001b[1;33m.\u001b[0m\u001b[0mxmax\u001b[0m\u001b[1;33m,\u001b[0m \u001b[0mbbox2\u001b[0m\u001b[1;33m.\u001b[0m\u001b[0mxmax\u001b[0m\u001b[1;33m)\u001b[0m\u001b[1;33m\u001b[0m\u001b[1;33m\u001b[0m\u001b[0m\n\u001b[0m\u001b[0;32m    680\u001b[0m         \u001b[0my0\u001b[0m \u001b[1;33m=\u001b[0m \u001b[0mnp\u001b[0m\u001b[1;33m.\u001b[0m\u001b[0mmaximum\u001b[0m\u001b[1;33m(\u001b[0m\u001b[0mbbox1\u001b[0m\u001b[1;33m.\u001b[0m\u001b[0mymin\u001b[0m\u001b[1;33m,\u001b[0m \u001b[0mbbox2\u001b[0m\u001b[1;33m.\u001b[0m\u001b[0mymin\u001b[0m\u001b[1;33m)\u001b[0m\u001b[1;33m\u001b[0m\u001b[1;33m\u001b[0m\u001b[0m\n\u001b[0;32m    681\u001b[0m         \u001b[0my1\u001b[0m \u001b[1;33m=\u001b[0m \u001b[0mnp\u001b[0m\u001b[1;33m.\u001b[0m\u001b[0mminimum\u001b[0m\u001b[1;33m(\u001b[0m\u001b[0mbbox1\u001b[0m\u001b[1;33m.\u001b[0m\u001b[0mymax\u001b[0m\u001b[1;33m,\u001b[0m \u001b[0mbbox2\u001b[0m\u001b[1;33m.\u001b[0m\u001b[0mymax\u001b[0m\u001b[1;33m)\u001b[0m\u001b[1;33m\u001b[0m\u001b[1;33m\u001b[0m\u001b[0m\n",
      "\u001b[1;32m~\\AppData\\Local\\Continuum\\anaconda3\\lib\\site-packages\\matplotlib\\transforms.py\u001b[0m in \u001b[0;36mxmax\u001b[1;34m(self)\u001b[0m\n\u001b[0;32m    320\u001b[0m     \u001b[1;32mdef\u001b[0m \u001b[0mxmax\u001b[0m\u001b[1;33m(\u001b[0m\u001b[0mself\u001b[0m\u001b[1;33m)\u001b[0m\u001b[1;33m:\u001b[0m\u001b[1;33m\u001b[0m\u001b[1;33m\u001b[0m\u001b[0m\n\u001b[0;32m    321\u001b[0m         \u001b[1;34m\"\"\"The right edge of the bounding box.\"\"\"\u001b[0m\u001b[1;33m\u001b[0m\u001b[1;33m\u001b[0m\u001b[0m\n\u001b[1;32m--> 322\u001b[1;33m         \u001b[1;32mreturn\u001b[0m \u001b[0mnp\u001b[0m\u001b[1;33m.\u001b[0m\u001b[0mmax\u001b[0m\u001b[1;33m(\u001b[0m\u001b[0mself\u001b[0m\u001b[1;33m.\u001b[0m\u001b[0mget_points\u001b[0m\u001b[1;33m(\u001b[0m\u001b[1;33m)\u001b[0m\u001b[1;33m[\u001b[0m\u001b[1;33m:\u001b[0m\u001b[1;33m,\u001b[0m \u001b[1;36m0\u001b[0m\u001b[1;33m]\u001b[0m\u001b[1;33m)\u001b[0m\u001b[1;33m\u001b[0m\u001b[1;33m\u001b[0m\u001b[0m\n\u001b[0m\u001b[0;32m    323\u001b[0m \u001b[1;33m\u001b[0m\u001b[0m\n\u001b[0;32m    324\u001b[0m     \u001b[1;33m@\u001b[0m\u001b[0mproperty\u001b[0m\u001b[1;33m\u001b[0m\u001b[1;33m\u001b[0m\u001b[0m\n",
      "\u001b[1;32m<__array_function__ internals>\u001b[0m in \u001b[0;36mamax\u001b[1;34m(*args, **kwargs)\u001b[0m\n",
      "\u001b[1;32m~\\AppData\\Local\\Continuum\\anaconda3\\lib\\site-packages\\numpy\\core\\fromnumeric.py\u001b[0m in \u001b[0;36mamax\u001b[1;34m(a, axis, out, keepdims, initial, where)\u001b[0m\n\u001b[0;32m   2704\u001b[0m     \"\"\"\n\u001b[0;32m   2705\u001b[0m     return _wrapreduction(a, np.maximum, 'max', axis, None, out,\n\u001b[1;32m-> 2706\u001b[1;33m                           keepdims=keepdims, initial=initial, where=where)\n\u001b[0m\u001b[0;32m   2707\u001b[0m \u001b[1;33m\u001b[0m\u001b[0m\n\u001b[0;32m   2708\u001b[0m \u001b[1;33m\u001b[0m\u001b[0m\n",
      "\u001b[1;32m~\\AppData\\Local\\Continuum\\anaconda3\\lib\\site-packages\\numpy\\core\\fromnumeric.py\u001b[0m in \u001b[0;36m_wrapreduction\u001b[1;34m(obj, ufunc, method, axis, dtype, out, **kwargs)\u001b[0m\n\u001b[0;32m     85\u001b[0m                 \u001b[1;32mreturn\u001b[0m \u001b[0mreduction\u001b[0m\u001b[1;33m(\u001b[0m\u001b[0maxis\u001b[0m\u001b[1;33m=\u001b[0m\u001b[0maxis\u001b[0m\u001b[1;33m,\u001b[0m \u001b[0mout\u001b[0m\u001b[1;33m=\u001b[0m\u001b[0mout\u001b[0m\u001b[1;33m,\u001b[0m \u001b[1;33m**\u001b[0m\u001b[0mpasskwargs\u001b[0m\u001b[1;33m)\u001b[0m\u001b[1;33m\u001b[0m\u001b[1;33m\u001b[0m\u001b[0m\n\u001b[0;32m     86\u001b[0m \u001b[1;33m\u001b[0m\u001b[0m\n\u001b[1;32m---> 87\u001b[1;33m     \u001b[1;32mreturn\u001b[0m \u001b[0mufunc\u001b[0m\u001b[1;33m.\u001b[0m\u001b[0mreduce\u001b[0m\u001b[1;33m(\u001b[0m\u001b[0mobj\u001b[0m\u001b[1;33m,\u001b[0m \u001b[0maxis\u001b[0m\u001b[1;33m,\u001b[0m \u001b[0mdtype\u001b[0m\u001b[1;33m,\u001b[0m \u001b[0mout\u001b[0m\u001b[1;33m,\u001b[0m \u001b[1;33m**\u001b[0m\u001b[0mpasskwargs\u001b[0m\u001b[1;33m)\u001b[0m\u001b[1;33m\u001b[0m\u001b[1;33m\u001b[0m\u001b[0m\n\u001b[0m\u001b[0;32m     88\u001b[0m \u001b[1;33m\u001b[0m\u001b[0m\n\u001b[0;32m     89\u001b[0m \u001b[1;33m\u001b[0m\u001b[0m\n",
      "\u001b[1;31mKeyboardInterrupt\u001b[0m: "
     ]
    }
   ],
   "source": [
    "def fit_linear_model(e,u,a,m,o):\n",
    "    X = np.vstack([(x-u)[o==0].flatten() for x in [a] + m]).T\n",
    "    y = (e-u)[o==0].flatten()\n",
    "    model = lin.LinearRegression(fit_intercept=False, normalize=False).fit(X,y)\n",
    "    ypred = np.dot(X,model.coef_)\n",
    "    rho = np.corrcoef(ypred,y)[0,1]\n",
    "    epred = np.zeros_like(e)\n",
    "    epred[o==0] = ypred + u[o==0]\n",
    "    return epred,model.coef_,rho\n",
    "    \n",
    "    \n",
    "regression_results = [[fit_linear_model(h,u,a,m[:15],o) for h,u,a,m,o in \n",
    "                      zip(hist_norm,uniform_unocc,actual_moves,model_regressors_norm,occupied_squares)] \n",
    "                      for hist_norm in [eye_hist_norm,mouse_hist_norm,random_hist_norm]]\n",
    "    \n",
    "for r,e in zip(regression_results[0],eye_hist_norm):\n",
    "    plt.plot(r[0],e,'.')\n",
    "plt.show()"
   ]
  },
  {
   "cell_type": "code",
   "execution_count": null,
   "metadata": {},
   "outputs": [],
   "source": [
    "def print_stats(x):\n",
    "    print(np.mean(x),\"±\",np.std(x)/np.sqrt(np.size(x)),\", p=\", sts.ttest_1samp(x,popmean=0).pvalue)\n",
    "\n",
    "def plot_betas(fig,ax,b,color):\n",
    "    x=range(b.shape[1])\n",
    "    y=np.mean(b,axis=0)\n",
    "    yerr=np.std(b,axis=0)/np.sqrt(np.shape(b)[0])\n",
    "    ax.errorbar(x=0,y=y[0],yerr=yerr[0],color=color)\n",
    "    ax.plot(x,y,'.',color=color)\n",
    "    ax.errorbar(x=x[1:],y=y[1:],yerr=yerr[1:],color=color)\n",
    "\n",
    "fig,ax=plt.subplots()\n",
    "for r,color in zip(regression_results,['gold','blue','gray']):\n",
    "    plot_betas(fig,ax,np.vstack([rr[1] for rr in r]),color)\n",
    "    ax.axhline(y=0,linestyle='dashed',color = 'black')\n",
    "    print_stats([rr[2] for rr in r])\n",
    "    \n",
    "ax.set_xlabel('Model at depth')\n",
    "ax.set_xticks(range(10))\n",
    "ax.set_xlim([-0.5,10.5])\n",
    "ax.set_ylabel('Regression coefficient')\n",
    "ax.spines['top'].set_visible(False)\n",
    "ax.spines['right'].set_visible(False)\n",
    "ax.text(0.02, 0.9, 'D', horizontalalignment='center',\n",
    "    verticalalignment='center', transform=fig.transFigure, fontsize = 20)\n",
    "\n",
    "fig.tight_layout()\n",
    "fig.savefig(fig_direc + 'eyetracking_D.pdf')\n",
    "plt.show()\n",
    "\n",
    "for j in range(16):\n",
    "    print_stats([regression_results[1][i][1][j] for i in range(10)])\n"
   ]
  },
  {
   "cell_type": "code",
   "execution_count": null,
   "metadata": {},
   "outputs": [],
   "source": [
    "def get_eye_trace(i,n):\n",
    "    t = data_game[i]['timestamp'][n]\n",
    "    dt = data_game[i]['rt'][n]/1000+0.5\n",
    "    \n",
    "    e=eye_corrected[i]\n",
    "    etdt = e[np.nonzero(e[:,0]>t)[0][0]-1:np.nonzero(e[:,0]<(t+dt))[0][-1]+1,:]\n",
    "    \n",
    "    if len(etdt)>1:\n",
    "        return {'durations' : [etdt[1,0]-t] + list(np.diff(etdt[1:,0])) + [t+dt-etdt[-1,0]],\n",
    "                'board_coords' : np.array([get_board_coords(eye_coords[1:],np.array(calibration_coordinates[i])) \n",
    "                                           for eye_coords in etdt])}\n",
    "    else:\n",
    "        return {'durations' : [], 'board_coords' : np.array([])}"
   ]
  },
  {
   "cell_type": "code",
   "execution_count": null,
   "metadata": {},
   "outputs": [],
   "source": [
    "eye_traces = [[get_eye_trace(i,n) for n,_ in enumerate(data_game[i]['timestamp'])] for i,_ in enumerate(data_game)]"
   ]
  },
  {
   "cell_type": "code",
   "execution_count": null,
   "metadata": {},
   "outputs": [],
   "source": [
    "import pickle\n",
    "with open(direc + 'Eye movements/eye_corrected.p','wb') as f:\n",
    "    pickle.dump(eye_corrected,f)\n",
    "with open(direc + 'Eye movements/data_game.p','wb') as f:\n",
    "    pickle.dump(data_game,f)\n",
    "with open(direc + 'Eye movements/eye_traces.p','wb') as f:\n",
    "    pickle.dump(eye_traces,f)\n",
    "with open(direc + 'Eye movements/regression_results.p','wb') as f:\n",
    "    pickle.dump(regression_results,f)\n",
    "with open(direc + 'Eye movements/eye_hist_norm.p','wb') as f:\n",
    "    pickle.dump(eye_hist_norm,f)\n"
   ]
  },
  {
   "cell_type": "code",
   "execution_count": null,
   "metadata": {},
   "outputs": [],
   "source": []
  }
 ],
 "metadata": {
  "kernelspec": {
   "display_name": "Python 3",
   "language": "python",
   "name": "python3"
  },
  "language_info": {
   "codemirror_mode": {
    "name": "ipython",
    "version": 3
   },
   "file_extension": ".py",
   "mimetype": "text/x-python",
   "name": "python",
   "nbconvert_exporter": "python",
   "pygments_lexer": "ipython3",
   "version": "3.7.4"
  }
 },
 "nbformat": 4,
 "nbformat_minor": 2
}
